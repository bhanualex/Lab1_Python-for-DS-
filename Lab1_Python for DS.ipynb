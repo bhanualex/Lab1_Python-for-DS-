{
 "cells": [
  {
   "cell_type": "code",
   "execution_count": 55,
   "id": "b572e5d0-05e8-48a6-9cff-2c37540a84fb",
   "metadata": {
    "jupyter": {
     "source_hidden": true
    }
   },
   "outputs": [
    {
     "name": "stdout",
     "output_type": "stream",
     "text": [
      "successfully imported\n"
     ]
    }
   ],
   "source": [
    "import mysql.connector\n",
    "import pandas as pd\n",
    "print (\"successfully imported\")"
   ]
  },
  {
   "cell_type": "code",
   "execution_count": 69,
   "id": "fac3067b-e73a-430e-85d6-359a3e24070d",
   "metadata": {},
   "outputs": [
    {
     "name": "stdout",
     "output_type": "stream",
     "text": [
      "Requirement already satisfied: mysql-connector-python in c:\\users\\lenovo\\anaconda3\\lib\\site-packages (8.4.0)Note: you may need to restart the kernel to use updated packages.\n",
      "\n"
     ]
    }
   ],
   "source": [
    "pip install mysql-connector-python"
   ]
  },
  {
   "cell_type": "code",
   "execution_count": 70,
   "id": "b86e59f2-b1ba-4b2e-a1a7-9bd470172500",
   "metadata": {},
   "outputs": [
    {
     "name": "stdout",
     "output_type": "stream",
     "text": [
      "connected successfully\n"
     ]
    }
   ],
   "source": [
    "connection = mysql.connector.connect(host = \"localhost\", \n",
    "                                     user = \"root\", \n",
    "                                     password = \"Bh@nuvegi1999\",\n",
    "                                     database = \"e_com\")\n",
    "\n",
    "##connection = mysql.connector.connect('e_com')\n",
    "cursorObject = connection.cursor()\n",
    "print(\"connected successfully\")"
   ]
  },
  {
   "cell_type": "code",
   "execution_count": 58,
   "id": "ad3d0c3c-028d-4b12-86a5-1017486002b2",
   "metadata": {},
   "outputs": [
    {
     "name": "stdout",
     "output_type": "stream",
     "text": [
      "created successfully\n"
     ]
    }
   ],
   "source": [
    "## question 1\n",
    "\n",
    "table_creation_qurey =   \"\"\" create table supplier(`SUPP_ID` int primary key,`SUPP_NAME` varchar(50), \n",
    "                            `SUPP_CITY` varchar(50), SUPP_PHONE varchar(10));\n",
    "                            \n",
    "                            create table customer (`CUS_ID` INT NOT NULL, `CUS_NAME` VARCHAR(20) NULL DEFAULT NULL, \n",
    "                            `CUS_PHONE` VARCHAR(10), `CUS_CITY` varchar(30) ,`CUS_GENDER` CHAR,PRIMARY KEY (`CUS_ID`));\n",
    "                        \n",
    "                        create table category(`CAT_ID` INT NOT NULL, `CAT_NAME` VARCHAR(20) NULL DEFAULT NULL,\n",
    "                        PRIMARY KEY (`CAT_ID`));\n",
    "                        \n",
    "                        create table product (`PRO_ID` INT NOT NULL, `PRO_NAME` VARCHAR(20) NULL DEFAULT NULL,\n",
    "                        `PRO_DESC` VARCHAR(60) NULL DEFAULT NULL, `CAT_ID` INT NOT NULL,\n",
    "                        PRIMARY KEY (`PRO_ID`),FOREIGN KEY (`CAT_ID`) REFERENCES CATEGORY (`CAT_ID`));\n",
    "                        \n",
    "                        create table product_details (`PROD_ID` INT NOT NULL, `PRO_ID` INT NOT NULL,\n",
    "                        `SUPP_ID` INT NOT NULL, `PROD_PRICE` INT NOT NULL,PRIMARY KEY (`PROD_ID`),\n",
    "                        FOREIGN KEY (`PRO_ID`) REFERENCES PRODUCT (`PRO_ID`),\n",
    "                        FOREIGN KEY (`SUPP_ID`) REFERENCES SUPPLIER(`SUPP_ID`));\n",
    "                        \n",
    "                        create table orders (`ORD_ID` INT NOT NULL, `ORD_AMOUNT` INT NOT NULL, `ORD_DATE` DATE,\n",
    "                        `CUS_ID` INT NOT NULL, `PROD_ID` INT NOT NULL,PRIMARY KEY (`ORD_ID`),\n",
    "                        FOREIGN KEY (`CUS_ID`) REFERENCES CUSTOMER(`CUS_ID`),\n",
    "                        FOREIGN KEY (`PROD_ID`) REFERENCES PRODUCT_DETAILS(`PROD_ID`));\n",
    "                        \n",
    "                        create table rating (`RAT_ID` INT NOT NULL, `CUS_ID` INT NOT NULL, `SUPP_ID` INT NOT NULL,\n",
    "                        `RAT_RATSTARS` INT NOT NULL,PRIMARY KEY (`RAT_ID`),\n",
    "                        FOREIGN KEY (`SUPP_ID`) REFERENCES SUPPLIER (`SUPP_ID`),\n",
    "                        FOREIGN KEY (`CUS_ID`) REFERENCES CUSTOMER(`CUS_ID`));\"\"\"\n",
    "cursorObject.execute(table_creation_qurey)\n",
    "print(\"created successfully\")"
   ]
  },
  {
   "cell_type": "code",
   "execution_count": 59,
   "id": "8c77aed6-707e-4b1b-bb1b-58451822619a",
   "metadata": {},
   "outputs": [
    {
     "name": "stdout",
     "output_type": "stream",
     "text": [
      "Reconnected successfully\n"
     ]
    }
   ],
   "source": [
    "connection.close()\n",
    "connection = mysql.connector.connect(host = \"localhost\", \n",
    "user = \"root\", \n",
    "password = \"Bh@nuvegi1999\",\n",
    "database = \"e_com\")\n",
    "\n",
    "\n",
    "cursorObject = connection.cursor()\n",
    "print(\"Reconnected successfully\")"
   ]
  },
  {
   "cell_type": "code",
   "execution_count": 60,
   "id": "de6d2672-08e7-4d3b-8bd4-f31fac650421",
   "metadata": {},
   "outputs": [
    {
     "name": "stdout",
     "output_type": "stream",
     "text": [
      "supplier table executed successfully\n"
     ]
    }
   ],
   "source": [
    "## question 2\n",
    "insert_query = \"insert into supplier (SUPP_ID,SUPP_NAME, SUPP_CITY, SUPP_PHONE) values (%s, %s, %s, %s)\"\n",
    "val = [(1,'Rajesh Retails' ,'Delhi',1234567890 ),\n",
    "       (2,'Appario Ltd.' ,'Mumbai' ,2589631470),\n",
    "       (3, 'Knome products' , 'Bangalore' ,9785462315 ),\n",
    "       (4, 'Bansal Retails' , 'Kochi' , 8975463285),\n",
    "       (5, 'Mittal Ltd.' ,'Lucknow ', 7898456532 )]\n",
    "\n",
    "cursorObject.executemany(insert_query, val)\n",
    "connection.commit()\n",
    "print(\"supplier table executed successfully\")"
   ]
  },
  {
   "cell_type": "code",
   "execution_count": 61,
   "id": "a7977796-e0cc-45ef-9b7e-782ef52a2e00",
   "metadata": {},
   "outputs": [
    {
     "name": "stdout",
     "output_type": "stream",
     "text": [
      "customer table executed successfully\n"
     ]
    }
   ],
   "source": [
    "insert_query = \"insert into customer(CUS_ID, CUS_NAME, CUS_PHONE, CUS_CITY, CUS_GENDER)values (%s, %s, %s, %s, %s)\"\n",
    "val = [( 1 , 'AAKASH' , 9999999999 , 'DELHI' , 'M' ),\n",
    "       ( 2 , 'AMAN' , 9785463215 , 'NOIDA' ,'M'),\n",
    "       ( 3 ,' NEHA' , 9999999998 , 'MUMBAI' , 'F'  ),\n",
    "       ( 4 , 'MEGHA' , 9994562399 , 'KOLKATA' , 'F' ),\n",
    "       ( 5 ,' PULKIT' , 7895999999 ,' LUCKNOW ','M')]\n",
    "\n",
    "cursorObject.executemany(insert_query, val)\n",
    "connection.commit()\n",
    "print(\"customer table executed successfully\")"
   ]
  },
  {
   "cell_type": "code",
   "execution_count": 62,
   "id": "d80db2d0-0583-4818-85fb-3bcdccb4b301",
   "metadata": {},
   "outputs": [
    {
     "name": "stdout",
     "output_type": "stream",
     "text": [
      "category table executed successfully\n"
     ]
    }
   ],
   "source": [
    "insert_query = \"insert into category(CAT_ID, CAT_NAME) values(%s, %s)\"\n",
    "val = [( 1 , 'BOOKS' ),\n",
    "       ( 2 , 'GAMES '),\n",
    "       ( 3 , 'GROCERIES '),\n",
    "       ( 4 , 'ELECTRONICS'),\n",
    "       ( 5 , 'CLOTHES ' )]\n",
    "cursorObject.executemany(insert_query, val)\n",
    "connection.commit()\n",
    "print(\"category table executed successfully\")"
   ]
  },
  {
   "cell_type": "code",
   "execution_count": 63,
   "id": "1f292fac-d355-4cbc-a622-76479b4e4836",
   "metadata": {},
   "outputs": [
    {
     "name": "stdout",
     "output_type": "stream",
     "text": [
      "product table executed successfully\n"
     ]
    }
   ],
   "source": [
    "insert_query = \"insert into product(PRO_ID,PRO_NAME, PRO_DESC, CAT_ID) values (%s, %s, %s, %s)\"\n",
    "val =[ ( 1 , 'GTA V', ' DFJDJFDJFDJFDJFJF' , 2  ),\n",
    "      ( 2 , 'TSHIRT ',' DFDFJDFJDKFD', 5 ),\n",
    "      ( 3 , 'ROG LAPTOP',  'DFNTTNTNTERND',  4 ),\n",
    "      ( 4 , 'OATS' ,'REURENTBTOTH' , 3 ),\n",
    "      ( 5 , 'HARRY POTTER', 'NBEMCTHTJTH' , 1  )]\n",
    "\n",
    "cursorObject.executemany(insert_query, val)\n",
    "connection.commit()\n",
    "print(\"product table executed successfully\")"
   ]
  },
  {
   "cell_type": "code",
   "execution_count": 64,
   "id": "a544379d-70ce-4076-8b6c-df91192f5bdc",
   "metadata": {},
   "outputs": [
    {
     "name": "stdout",
     "output_type": "stream",
     "text": [
      "product_details table executed successfully\n"
     ]
    }
   ],
   "source": [
    "insert_query = \"insert into product_details (PROD_ID,PRO_ID,SUPP_ID ,PROD_PRICE) values(%s, %s, %s, %s)\"\n",
    "val = [(1 , 1 , 2 , 1500 ),\n",
    "(2 , 3 , 5 , 30000 ),\n",
    "(3 , 5 , 1 , 3000 ),\n",
    "(4 , 2 , 3 , 2500 ),\n",
    "(5 , 4 , 1 , 1000 )]\n",
    "\n",
    "cursorObject.executemany(insert_query, val)\n",
    "connection.commit()\n",
    "print(\"product_details table executed successfully\")"
   ]
  },
  {
   "cell_type": "code",
   "execution_count": 65,
   "id": "79712000-9183-4162-b033-c8095f51f5c5",
   "metadata": {},
   "outputs": [],
   "source": [
    "insert_query = \"INSERT INTO orders ( ORD_ID, ORD_AMOUNT, ORD_DATE, CUS_ID, PROD_ID) values(%s, %s, %s, %s, %s)\"\n",
    "val = [( 20 , 1500 , \"2021-10-12\" , 3, 5 ),\n",
    "       ( 25 , 30500 , \"2021-09-16\" , 5, 2 ),\n",
    "       ( 26 , 2000 , \"2021-10-05\" , 1, 1 ),\n",
    "       ( 30 , 3500 , \"2021-08-16\" , 4, 3 ),\n",
    "       ( 50 , 2000 , \"2021-10-06\" , 2, 1 )]\n",
    "\n",
    "cursorObject.executemany(insert_query, val)\n",
    "connection.commit()"
   ]
  },
  {
   "cell_type": "code",
   "execution_count": 66,
   "id": "a2465404-f911-4bb2-8d2f-c69f8d3e91b4",
   "metadata": {},
   "outputs": [
    {
     "name": "stdout",
     "output_type": "stream",
     "text": [
      "rating table executed successfully\n"
     ]
    }
   ],
   "source": [
    "insert_query = \"insert into rating (RAT_ID,CUS_ID,SUPP_ID,RAT_RATSTARS) values(%s, %s, %s, %s)\"\n",
    "val = [(  1 , 2 , 2 , 4 ),\n",
    "       (  2 , 3 , 4 , 3 ),\n",
    "       (  3 , 5 , 1 , 5 ), \n",
    "       (  4 , 1 , 3 , 2 ),\n",
    "       (  5 , 4 , 5 , 4 )]\n",
    "cursorObject.executemany(insert_query, val)\n",
    "connection.commit()\n",
    "print(\"rating table executed successfully\")\n"
   ]
  },
  {
   "cell_type": "code",
   "execution_count": 75,
   "id": "d7835aa5-6fa3-4455-922e-a2c8b420e8e1",
   "metadata": {},
   "outputs": [
    {
     "data": {
      "text/html": [
       "<div>\n",
       "<style scoped>\n",
       "    .dataframe tbody tr th:only-of-type {\n",
       "        vertical-align: middle;\n",
       "    }\n",
       "\n",
       "    .dataframe tbody tr th {\n",
       "        vertical-align: top;\n",
       "    }\n",
       "\n",
       "    .dataframe thead th {\n",
       "        text-align: right;\n",
       "    }\n",
       "</style>\n",
       "<table border=\"1\" class=\"dataframe\">\n",
       "  <thead>\n",
       "    <tr style=\"text-align: right;\">\n",
       "      <th></th>\n",
       "      <th>CUS_GENDER</th>\n",
       "      <th>COUNT</th>\n",
       "    </tr>\n",
       "  </thead>\n",
       "  <tbody>\n",
       "    <tr>\n",
       "      <th>0</th>\n",
       "      <td>F</td>\n",
       "      <td>1</td>\n",
       "    </tr>\n",
       "    <tr>\n",
       "      <th>1</th>\n",
       "      <td>M</td>\n",
       "      <td>1</td>\n",
       "    </tr>\n",
       "  </tbody>\n",
       "</table>\n",
       "</div>"
      ],
      "text/plain": [
       "  CUS_GENDER  COUNT\n",
       "0          F      1\n",
       "1          M      1"
      ]
     },
     "execution_count": 75,
     "metadata": {},
     "output_type": "execute_result"
    }
   ],
   "source": [
    "## question 3\n",
    "\n",
    "Query3 = \"\"\"SELECT CUS_GENDER, COUNT(*) AS Number_of_Customers\n",
    "FROM customer c\n",
    "JOIN `orders` o ON c.CUS_ID = o.CUS_ID\n",
    "WHERE o.ORD_AMOUNT >= 3000\n",
    "GROUP BY CUS_GENDER; \"\"\"\n",
    "\n",
    "cursorObject.execute(Query3)\n",
    "output = cursorObject.fetchall()\n",
    "\n",
    "output_df = pd.DataFrame(output, columns=['CUS_GENDER', 'COUNT'])\n",
    "output_df\n",
    "                         \n"
   ]
  },
  {
   "cell_type": "code",
   "execution_count": 77,
   "id": "f6c7c46f-5e58-4efd-ac19-e019c929ddbd",
   "metadata": {},
   "outputs": [
    {
     "data": {
      "text/html": [
       "<div>\n",
       "<style scoped>\n",
       "    .dataframe tbody tr th:only-of-type {\n",
       "        vertical-align: middle;\n",
       "    }\n",
       "\n",
       "    .dataframe tbody tr th {\n",
       "        vertical-align: top;\n",
       "    }\n",
       "\n",
       "    .dataframe thead th {\n",
       "        text-align: right;\n",
       "    }\n",
       "</style>\n",
       "<table border=\"1\" class=\"dataframe\">\n",
       "  <thead>\n",
       "    <tr style=\"text-align: right;\">\n",
       "      <th></th>\n",
       "      <th>ORD_ID</th>\n",
       "      <th>ORD_AMOUNT</th>\n",
       "      <th>ORD_DATE</th>\n",
       "      <th>CUS_ID</th>\n",
       "      <th>PROD_ID</th>\n",
       "      <th>PRO_NAME</th>\n",
       "    </tr>\n",
       "  </thead>\n",
       "  <tbody>\n",
       "    <tr>\n",
       "      <th>0</th>\n",
       "      <td>50</td>\n",
       "      <td>2000</td>\n",
       "      <td>2021-10-06</td>\n",
       "      <td>2</td>\n",
       "      <td>1</td>\n",
       "      <td>GTA V</td>\n",
       "    </tr>\n",
       "  </tbody>\n",
       "</table>\n",
       "</div>"
      ],
      "text/plain": [
       "   ORD_ID  ORD_AMOUNT    ORD_DATE  CUS_ID  PROD_ID PRO_NAME\n",
       "0      50        2000  2021-10-06       2        1    GTA V"
      ]
     },
     "execution_count": 77,
     "metadata": {},
     "output_type": "execute_result"
    }
   ],
   "source": [
    "## question 4\n",
    "\n",
    "Query4 = \"\"\"select o.*,PRO_NAME \n",
    "from orders o \n",
    "join product_details p ON o.PROD_ID=p.PROD_ID\n",
    "join product pr ON pr.PRO_ID=p.PRO_ID\n",
    "where  CUS_ID= 2;\"\"\"\n",
    "\n",
    "cursorObject.execute(Query4)\n",
    "output = cursorObject.fetchall()\n",
    "\n",
    "output_df = pd.DataFrame(output, columns=['ORD_ID', 'ORD_AMOUNT', 'ORD_DATE','CUS_ID', 'PROD_ID', 'PRO_NAME'])\n",
    "output_df\n"
   ]
  },
  {
   "cell_type": "code",
   "execution_count": 81,
   "id": "6cb1290e-d668-400c-aeec-9f489f657f46",
   "metadata": {},
   "outputs": [
    {
     "data": {
      "text/html": [
       "<div>\n",
       "<style scoped>\n",
       "    .dataframe tbody tr th:only-of-type {\n",
       "        vertical-align: middle;\n",
       "    }\n",
       "\n",
       "    .dataframe tbody tr th {\n",
       "        vertical-align: top;\n",
       "    }\n",
       "\n",
       "    .dataframe thead th {\n",
       "        text-align: right;\n",
       "    }\n",
       "</style>\n",
       "<table border=\"1\" class=\"dataframe\">\n",
       "  <thead>\n",
       "    <tr style=\"text-align: right;\">\n",
       "      <th></th>\n",
       "      <th>SUPP_ID</th>\n",
       "      <th>SUPP_NAME</th>\n",
       "      <th>SUPP_CITY</th>\n",
       "      <th>SUPP_PHONE</th>\n",
       "    </tr>\n",
       "  </thead>\n",
       "  <tbody>\n",
       "    <tr>\n",
       "      <th>0</th>\n",
       "      <td>1</td>\n",
       "      <td>Rajesh Retails</td>\n",
       "      <td>Delhi</td>\n",
       "      <td>1234567890</td>\n",
       "    </tr>\n",
       "  </tbody>\n",
       "</table>\n",
       "</div>"
      ],
      "text/plain": [
       "   SUPP_ID       SUPP_NAME SUPP_CITY  SUPP_PHONE\n",
       "0        1  Rajesh Retails     Delhi  1234567890"
      ]
     },
     "execution_count": 81,
     "metadata": {},
     "output_type": "execute_result"
    }
   ],
   "source": [
    "## question 5\n",
    "\n",
    "Query5 = \"\"\"select s.*\n",
    "  from supplier s\n",
    "  join product_details pr ON s.SUPP_ID=pr.SUPP_ID\n",
    "   GROUP BY SUPP_ID \n",
    "   HAVING COUNT(DISTINCT PROD_ID) > 1;\"\"\"\n",
    "\n",
    "cursorObject.execute(Query5)\n",
    "output = cursorObject.fetchall()\n",
    "\n",
    "output_df = pd.DataFrame(output, columns=['SUPP_ID','SUPP_NAME', 'SUPP_CITY', 'SUPP_PHONE'])\n",
    "output_df"
   ]
  },
  {
   "cell_type": "code",
   "execution_count": 82,
   "id": "c0652e2a-3aad-4637-9489-56ad4dfb5be7",
   "metadata": {},
   "outputs": [
    {
     "data": {
      "text/html": [
       "<div>\n",
       "<style scoped>\n",
       "    .dataframe tbody tr th:only-of-type {\n",
       "        vertical-align: middle;\n",
       "    }\n",
       "\n",
       "    .dataframe tbody tr th {\n",
       "        vertical-align: top;\n",
       "    }\n",
       "\n",
       "    .dataframe thead th {\n",
       "        text-align: right;\n",
       "    }\n",
       "</style>\n",
       "<table border=\"1\" class=\"dataframe\">\n",
       "  <thead>\n",
       "    <tr style=\"text-align: right;\">\n",
       "      <th></th>\n",
       "      <th>CAT_ID</th>\n",
       "      <th>CAT_NAME</th>\n",
       "    </tr>\n",
       "  </thead>\n",
       "  <tbody>\n",
       "    <tr>\n",
       "      <th>0</th>\n",
       "      <td>3</td>\n",
       "      <td>GROCERIES</td>\n",
       "    </tr>\n",
       "  </tbody>\n",
       "</table>\n",
       "</div>"
      ],
      "text/plain": [
       "   CAT_ID    CAT_NAME\n",
       "0       3  GROCERIES "
      ]
     },
     "execution_count": 82,
     "metadata": {},
     "output_type": "execute_result"
    }
   ],
   "source": [
    "## question 6\n",
    "\n",
    "Query6 = \"\"\"select c.*\n",
    "  from category c\n",
    "  join product p ON p.CAT_ID=c.CAT_ID\n",
    "  join product_details pr ON pr.PRO_ID=p.PRO_ID\n",
    "  join orders o ON o.PROD_ID=pr.PROD_ID\n",
    "  having  MIN(ORD_AMOUNT);\"\"\"\n",
    "\n",
    "cursorObject.execute(Query6)\n",
    "output = cursorObject.fetchall()\n",
    "\n",
    "output_df = pd.DataFrame(output, columns=['CAT_ID', 'CAT_NAME'])\n",
    "output_df"
   ]
  },
  {
   "cell_type": "code",
   "execution_count": 83,
   "id": "b2263777-c67f-48e3-a33b-fbe8c599d371",
   "metadata": {},
   "outputs": [
    {
     "data": {
      "text/html": [
       "<div>\n",
       "<style scoped>\n",
       "    .dataframe tbody tr th:only-of-type {\n",
       "        vertical-align: middle;\n",
       "    }\n",
       "\n",
       "    .dataframe tbody tr th {\n",
       "        vertical-align: top;\n",
       "    }\n",
       "\n",
       "    .dataframe thead th {\n",
       "        text-align: right;\n",
       "    }\n",
       "</style>\n",
       "<table border=\"1\" class=\"dataframe\">\n",
       "  <thead>\n",
       "    <tr style=\"text-align: right;\">\n",
       "      <th></th>\n",
       "      <th>PRO_ID</th>\n",
       "      <th>PRO_NAME</th>\n",
       "    </tr>\n",
       "  </thead>\n",
       "  <tbody>\n",
       "    <tr>\n",
       "      <th>0</th>\n",
       "      <td>4</td>\n",
       "      <td>OATS</td>\n",
       "    </tr>\n",
       "    <tr>\n",
       "      <th>1</th>\n",
       "      <td>1</td>\n",
       "      <td>GTA V</td>\n",
       "    </tr>\n",
       "  </tbody>\n",
       "</table>\n",
       "</div>"
      ],
      "text/plain": [
       "   PRO_ID PRO_NAME\n",
       "0       4     OATS\n",
       "1       1    GTA V"
      ]
     },
     "execution_count": 83,
     "metadata": {},
     "output_type": "execute_result"
    }
   ],
   "source": [
    "## question 7\n",
    "\n",
    "Query7 = \"\"\"select p.PRO_ID, p.PRO_NAME\n",
    "from product p\n",
    "join product_details pr ON p.PRO_ID=pr.PRO_ID\n",
    "join orders o ON pr.PROD_ID=o.PROD_ID\n",
    "where ORD_DATE > '2021-10-05';\"\"\"\n",
    "\n",
    "cursorObject.execute(Query7)\n",
    "output = cursorObject.fetchall()\n",
    "\n",
    "output_df = pd.DataFrame(output, columns=['PRO_ID', 'PRO_NAME'])\n",
    "output_df"
   ]
  },
  {
   "cell_type": "code",
   "execution_count": 84,
   "id": "0dd1ab9f-4ca9-44ba-a25b-ef97e75a3669",
   "metadata": {},
   "outputs": [
    {
     "data": {
      "text/html": [
       "<div>\n",
       "<style scoped>\n",
       "    .dataframe tbody tr th:only-of-type {\n",
       "        vertical-align: middle;\n",
       "    }\n",
       "\n",
       "    .dataframe tbody tr th {\n",
       "        vertical-align: top;\n",
       "    }\n",
       "\n",
       "    .dataframe thead th {\n",
       "        text-align: right;\n",
       "    }\n",
       "</style>\n",
       "<table border=\"1\" class=\"dataframe\">\n",
       "  <thead>\n",
       "    <tr style=\"text-align: right;\">\n",
       "      <th></th>\n",
       "      <th>SUPP_NAME</th>\n",
       "      <th>SUPP_ID</th>\n",
       "      <th>RAT_RATSTARS</th>\n",
       "      <th>CUS_NAME</th>\n",
       "    </tr>\n",
       "  </thead>\n",
       "  <tbody>\n",
       "    <tr>\n",
       "      <th>0</th>\n",
       "      <td>Rajesh Retails</td>\n",
       "      <td>1</td>\n",
       "      <td>5</td>\n",
       "      <td>PULKIT</td>\n",
       "    </tr>\n",
       "    <tr>\n",
       "      <th>1</th>\n",
       "      <td>Appario Ltd.</td>\n",
       "      <td>2</td>\n",
       "      <td>4</td>\n",
       "      <td>AMAN</td>\n",
       "    </tr>\n",
       "    <tr>\n",
       "      <th>2</th>\n",
       "      <td>Mittal Ltd.</td>\n",
       "      <td>5</td>\n",
       "      <td>4</td>\n",
       "      <td>MEGHA</td>\n",
       "    </tr>\n",
       "  </tbody>\n",
       "</table>\n",
       "</div>"
      ],
      "text/plain": [
       "        SUPP_NAME  SUPP_ID  RAT_RATSTARS CUS_NAME\n",
       "0  Rajesh Retails        1             5   PULKIT\n",
       "1    Appario Ltd.        2             4     AMAN\n",
       "2     Mittal Ltd.        5             4    MEGHA"
      ]
     },
     "execution_count": 84,
     "metadata": {},
     "output_type": "execute_result"
    }
   ],
   "source": [
    "## question 8\n",
    "\n",
    "Query8 = \"\"\"select s.SUPP_NAME, s.SUPP_ID, r.RAT_RATSTARS, c.CUS_NAME\n",
    "  from supplier s\n",
    "  join rating r ON s.SUPP_ID = r.SUPP_ID\n",
    "  join customer c ON r.CUS_ID = c.CUS_ID\n",
    "  ORDER BY r.RAT_RATSTARS DESC\n",
    "LIMIT 3;\n",
    "\"\"\"\n",
    "\n",
    "cursorObject.execute(Query8)\n",
    "output = cursorObject.fetchall()\n",
    "\n",
    "output_df = pd.DataFrame(output, columns=['SUPP_NAME', 'SUPP_ID','RAT_RATSTARS','CUS_NAME'])\n",
    "output_df"
   ]
  },
  {
   "cell_type": "code",
   "execution_count": 85,
   "id": "946d0260-d93f-4812-b57c-c4f8d7f9adf1",
   "metadata": {},
   "outputs": [
    {
     "data": {
      "text/html": [
       "<div>\n",
       "<style scoped>\n",
       "    .dataframe tbody tr th:only-of-type {\n",
       "        vertical-align: middle;\n",
       "    }\n",
       "\n",
       "    .dataframe tbody tr th {\n",
       "        vertical-align: top;\n",
       "    }\n",
       "\n",
       "    .dataframe thead th {\n",
       "        text-align: right;\n",
       "    }\n",
       "</style>\n",
       "<table border=\"1\" class=\"dataframe\">\n",
       "  <thead>\n",
       "    <tr style=\"text-align: right;\">\n",
       "      <th></th>\n",
       "      <th>CUS_NAME</th>\n",
       "      <th>CUS_GENDER</th>\n",
       "    </tr>\n",
       "  </thead>\n",
       "  <tbody>\n",
       "    <tr>\n",
       "      <th>0</th>\n",
       "      <td>AAKASH</td>\n",
       "      <td>M</td>\n",
       "    </tr>\n",
       "    <tr>\n",
       "      <th>1</th>\n",
       "      <td>AMAN</td>\n",
       "      <td>M</td>\n",
       "    </tr>\n",
       "    <tr>\n",
       "      <th>2</th>\n",
       "      <td>NEHA</td>\n",
       "      <td>F</td>\n",
       "    </tr>\n",
       "    <tr>\n",
       "      <th>3</th>\n",
       "      <td>MEGHA</td>\n",
       "      <td>F</td>\n",
       "    </tr>\n",
       "  </tbody>\n",
       "</table>\n",
       "</div>"
      ],
      "text/plain": [
       "  CUS_NAME CUS_GENDER\n",
       "0   AAKASH          M\n",
       "1     AMAN          M\n",
       "2     NEHA          F\n",
       "3    MEGHA          F"
      ]
     },
     "execution_count": 85,
     "metadata": {},
     "output_type": "execute_result"
    }
   ],
   "source": [
    "## question 9\n",
    "\n",
    "Query9 = \"\"\"select CUS_NAME, CUS_GENDER \n",
    "from customer WHERE CUS_NAME LIKE 'A%' OR CUS_NAME LIKE '%A'; \"\"\"\n",
    "\n",
    "cursorObject.execute(Query9)\n",
    "output = cursorObject.fetchall()\n",
    "\n",
    "output_df = pd.DataFrame(output, columns=['CUS_NAME', 'CUS_GENDER'])\n",
    "output_df"
   ]
  },
  {
   "cell_type": "code",
   "execution_count": 92,
   "id": "f4bfe856-9e8d-428e-9bde-a05fef3c1cbf",
   "metadata": {},
   "outputs": [
    {
     "name": "stdout",
     "output_type": "stream",
     "text": [
      "amount is  [(Decimal('34500'),)]\n"
     ]
    }
   ],
   "source": [
    "## question 10\n",
    "\n",
    "Query10 = \"\"\"select sum(ORD_AMOUNT) as total_order_amount \n",
    "from orders o \n",
    "join customer c ON c.CUS_ID = o.CUS_ID\n",
    "where CUS_GENDER = 'M';\"\"\"\n",
    "\n",
    "cursorObject.execute(Query10)\n",
    "output = cursorObject.fetchall()\n",
    "\n",
    "print(\"amount is \", output);"
   ]
  },
  {
   "cell_type": "code",
   "execution_count": 95,
   "id": "b8614710-d08a-4cde-aaba-73f99c904a26",
   "metadata": {},
   "outputs": [
    {
     "data": {
      "text/html": [
       "<div>\n",
       "<style scoped>\n",
       "    .dataframe tbody tr th:only-of-type {\n",
       "        vertical-align: middle;\n",
       "    }\n",
       "\n",
       "    .dataframe tbody tr th {\n",
       "        vertical-align: top;\n",
       "    }\n",
       "\n",
       "    .dataframe thead th {\n",
       "        text-align: right;\n",
       "    }\n",
       "</style>\n",
       "<table border=\"1\" class=\"dataframe\">\n",
       "  <thead>\n",
       "    <tr style=\"text-align: right;\">\n",
       "      <th></th>\n",
       "      <th>CUS_ID</th>\n",
       "      <th>CUS_NAME</th>\n",
       "      <th>CUS_PHONE</th>\n",
       "      <th>CUS_CITY</th>\n",
       "      <th>CUS_GENDER</th>\n",
       "      <th>ORD_ID</th>\n",
       "      <th>ORD_AMOUNT</th>\n",
       "      <th>ORD_DATE</th>\n",
       "      <th>CUS_ID</th>\n",
       "      <th>PROD_ID</th>\n",
       "    </tr>\n",
       "  </thead>\n",
       "  <tbody>\n",
       "    <tr>\n",
       "      <th>0</th>\n",
       "      <td>1</td>\n",
       "      <td>AAKASH</td>\n",
       "      <td>9999999999</td>\n",
       "      <td>DELHI</td>\n",
       "      <td>M</td>\n",
       "      <td>26</td>\n",
       "      <td>2000</td>\n",
       "      <td>2021-10-05</td>\n",
       "      <td>1</td>\n",
       "      <td>1</td>\n",
       "    </tr>\n",
       "    <tr>\n",
       "      <th>1</th>\n",
       "      <td>2</td>\n",
       "      <td>AMAN</td>\n",
       "      <td>9785463215</td>\n",
       "      <td>NOIDA</td>\n",
       "      <td>M</td>\n",
       "      <td>50</td>\n",
       "      <td>2000</td>\n",
       "      <td>2021-10-06</td>\n",
       "      <td>2</td>\n",
       "      <td>1</td>\n",
       "    </tr>\n",
       "    <tr>\n",
       "      <th>2</th>\n",
       "      <td>3</td>\n",
       "      <td>NEHA</td>\n",
       "      <td>9999999998</td>\n",
       "      <td>MUMBAI</td>\n",
       "      <td>F</td>\n",
       "      <td>20</td>\n",
       "      <td>1500</td>\n",
       "      <td>2021-10-12</td>\n",
       "      <td>3</td>\n",
       "      <td>5</td>\n",
       "    </tr>\n",
       "    <tr>\n",
       "      <th>3</th>\n",
       "      <td>4</td>\n",
       "      <td>MEGHA</td>\n",
       "      <td>9994562399</td>\n",
       "      <td>KOLKATA</td>\n",
       "      <td>F</td>\n",
       "      <td>30</td>\n",
       "      <td>3500</td>\n",
       "      <td>2021-08-16</td>\n",
       "      <td>4</td>\n",
       "      <td>3</td>\n",
       "    </tr>\n",
       "    <tr>\n",
       "      <th>4</th>\n",
       "      <td>5</td>\n",
       "      <td>PULKIT</td>\n",
       "      <td>7895999999</td>\n",
       "      <td>LUCKNOW</td>\n",
       "      <td>M</td>\n",
       "      <td>25</td>\n",
       "      <td>30500</td>\n",
       "      <td>2021-09-16</td>\n",
       "      <td>5</td>\n",
       "      <td>2</td>\n",
       "    </tr>\n",
       "  </tbody>\n",
       "</table>\n",
       "</div>"
      ],
      "text/plain": [
       "   CUS_ID  CUS_NAME   CUS_PHONE   CUS_CITY  CUS_GENDER  ORD_ID  ORD_AMOUNT  \\\n",
       "0       1    AAKASH  9999999999      DELHI           M      26        2000   \n",
       "1       2      AMAN  9785463215      NOIDA           M      50        2000   \n",
       "2       3      NEHA  9999999998     MUMBAI           F      20        1500   \n",
       "3       4     MEGHA  9994562399    KOLKATA           F      30        3500   \n",
       "4       5    PULKIT  7895999999   LUCKNOW            M      25       30500   \n",
       "\n",
       "     ORD_DATE  CUS_ID  PROD_ID  \n",
       "0  2021-10-05       1        1  \n",
       "1  2021-10-06       2        1  \n",
       "2  2021-10-12       3        5  \n",
       "3  2021-08-16       4        3  \n",
       "4  2021-09-16       5        2  "
      ]
     },
     "execution_count": 95,
     "metadata": {},
     "output_type": "execute_result"
    }
   ],
   "source": [
    "## question 11\n",
    "\n",
    "Query11 = \"\"\"select * from customer left outer join `orders` on customer.CUS_ID= `orders`.CUS_ID;\"\"\"\n",
    "\n",
    "cursorObject.execute(Query11)\n",
    "output = cursorObject.fetchall()\n",
    "\n",
    "output_df = pd.DataFrame(output, columns=['CUS_ID',' CUS_NAME', 'CUS_PHONE', 'CUS_CITY',\n",
    "                                          ' CUS_GENDER','ORD_ID', 'ORD_AMOUNT', \n",
    "                                          'ORD_DATE', 'CUS_ID', 'PROD_ID'])\n",
    "output_df"
   ]
  },
  {
   "cell_type": "code",
   "execution_count": null,
   "id": "2564265d-3038-4f3e-b3b1-26c532f77a37",
   "metadata": {},
   "outputs": [],
   "source": []
  }
 ],
 "metadata": {
  "kernelspec": {
   "display_name": "Python 3 (ipykernel)",
   "language": "python",
   "name": "python3"
  },
  "language_info": {
   "codemirror_mode": {
    "name": "ipython",
    "version": 3
   },
   "file_extension": ".py",
   "mimetype": "text/x-python",
   "name": "python",
   "nbconvert_exporter": "python",
   "pygments_lexer": "ipython3",
   "version": "3.11.7"
  }
 },
 "nbformat": 4,
 "nbformat_minor": 5
}
